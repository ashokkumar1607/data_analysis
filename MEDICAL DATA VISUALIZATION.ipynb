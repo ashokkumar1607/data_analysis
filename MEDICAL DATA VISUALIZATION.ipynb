{
 "cells": [
  {
   "cell_type": "code",
   "execution_count": 3,
   "id": "32f7dc36-76ad-4889-b901-191adec392aa",
   "metadata": {},
   "outputs": [],
   "source": [
    "import pandas as pd \n",
    "import seaborn as sns\n",
    "import matplotlib.pyplot as plt\n",
    "import numpy as np"
   ]
  },
  {
   "cell_type": "code",
   "execution_count": 4,
   "id": "bd2f22c1-847c-4549-ac92-ea408450569a",
   "metadata": {},
   "outputs": [],
   "source": [
    "df=pd.read_csv('medical_examination.csv')"
   ]
  },
  {
   "cell_type": "code",
   "execution_count": 5,
   "id": "f167655b-d440-493b-adbd-b09cb5878bba",
   "metadata": {},
   "outputs": [],
   "source": [
    "x=df['weight']/(df['height']/100)**2"
   ]
  },
  {
   "cell_type": "code",
   "execution_count": 6,
   "id": "49810557-8a13-461d-b39b-500d7e21ea77",
   "metadata": {},
   "outputs": [],
   "source": [
    "df['overweight']=np.where(x>25,1,0)"
   ]
  },
  {
   "cell_type": "code",
   "execution_count": 7,
   "id": "c3de06f6-a8dc-4151-b3d7-e35a4db3277e",
   "metadata": {},
   "outputs": [],
   "source": [
    "df['cholesterol']=np.where(df['cholesterol']==1,0,1)"
   ]
  },
  {
   "cell_type": "code",
   "execution_count": 8,
   "id": "ac2d6fa9-3f5c-4fe8-b073-3d17e1519948",
   "metadata": {},
   "outputs": [],
   "source": [
    "df['gluc']=np.where(df['gluc']==1,0,1)"
   ]
  },
  {
   "cell_type": "code",
   "execution_count": 13,
   "id": "2ae7cf34-32cb-4875-913c-4668cf5678dd",
   "metadata": {},
   "outputs": [],
   "source": [
    "new_df=df.melt(id_vars=['cardio'],value_vars=sorted(['cholesterol','gluc','smoke','alco','active','overweight']))\n",
    "#CONVERT DATAFRAME FROM WIDE TO LONG FORM"
   ]
  },
  {
   "cell_type": "code",
   "execution_count": 10,
   "id": "afb26029-30e5-4539-acc4-c4e112033a12",
   "metadata": {},
   "outputs": [
    {
     "data": {
      "text/html": [
       "<div>\n",
       "<style scoped>\n",
       "    .dataframe tbody tr th:only-of-type {\n",
       "        vertical-align: middle;\n",
       "    }\n",
       "\n",
       "    .dataframe tbody tr th {\n",
       "        vertical-align: top;\n",
       "    }\n",
       "\n",
       "    .dataframe thead th {\n",
       "        text-align: right;\n",
       "    }\n",
       "</style>\n",
       "<table border=\"1\" class=\"dataframe\">\n",
       "  <thead>\n",
       "    <tr style=\"text-align: right;\">\n",
       "      <th></th>\n",
       "      <th>cardio</th>\n",
       "      <th>variable</th>\n",
       "      <th>value</th>\n",
       "    </tr>\n",
       "  </thead>\n",
       "  <tbody>\n",
       "    <tr>\n",
       "      <th>0</th>\n",
       "      <td>0</td>\n",
       "      <td>cholesterol</td>\n",
       "      <td>0</td>\n",
       "    </tr>\n",
       "    <tr>\n",
       "      <th>1</th>\n",
       "      <td>1</td>\n",
       "      <td>cholesterol</td>\n",
       "      <td>1</td>\n",
       "    </tr>\n",
       "    <tr>\n",
       "      <th>2</th>\n",
       "      <td>1</td>\n",
       "      <td>cholesterol</td>\n",
       "      <td>1</td>\n",
       "    </tr>\n",
       "    <tr>\n",
       "      <th>3</th>\n",
       "      <td>1</td>\n",
       "      <td>cholesterol</td>\n",
       "      <td>0</td>\n",
       "    </tr>\n",
       "    <tr>\n",
       "      <th>4</th>\n",
       "      <td>0</td>\n",
       "      <td>cholesterol</td>\n",
       "      <td>0</td>\n",
       "    </tr>\n",
       "    <tr>\n",
       "      <th>...</th>\n",
       "      <td>...</td>\n",
       "      <td>...</td>\n",
       "      <td>...</td>\n",
       "    </tr>\n",
       "    <tr>\n",
       "      <th>419995</th>\n",
       "      <td>0</td>\n",
       "      <td>overweight</td>\n",
       "      <td>1</td>\n",
       "    </tr>\n",
       "    <tr>\n",
       "      <th>419996</th>\n",
       "      <td>1</td>\n",
       "      <td>overweight</td>\n",
       "      <td>1</td>\n",
       "    </tr>\n",
       "    <tr>\n",
       "      <th>419997</th>\n",
       "      <td>1</td>\n",
       "      <td>overweight</td>\n",
       "      <td>1</td>\n",
       "    </tr>\n",
       "    <tr>\n",
       "      <th>419998</th>\n",
       "      <td>1</td>\n",
       "      <td>overweight</td>\n",
       "      <td>1</td>\n",
       "    </tr>\n",
       "    <tr>\n",
       "      <th>419999</th>\n",
       "      <td>0</td>\n",
       "      <td>overweight</td>\n",
       "      <td>0</td>\n",
       "    </tr>\n",
       "  </tbody>\n",
       "</table>\n",
       "<p>420000 rows × 3 columns</p>\n",
       "</div>"
      ],
      "text/plain": [
       "        cardio     variable  value\n",
       "0            0  cholesterol      0\n",
       "1            1  cholesterol      1\n",
       "2            1  cholesterol      1\n",
       "3            1  cholesterol      0\n",
       "4            0  cholesterol      0\n",
       "...        ...          ...    ...\n",
       "419995       0   overweight      1\n",
       "419996       1   overweight      1\n",
       "419997       1   overweight      1\n",
       "419998       1   overweight      1\n",
       "419999       0   overweight      0\n",
       "\n",
       "[420000 rows x 3 columns]"
      ]
     },
     "execution_count": 10,
     "metadata": {},
     "output_type": "execute_result"
    }
   ],
   "source": [
    "new_df"
   ]
  },
  {
   "cell_type": "code",
   "execution_count": 20,
   "id": "4e4aceb2-7b1e-4e46-8f76-64f2a1fcee90",
   "metadata": {},
   "outputs": [
    {
     "name": "stderr",
     "output_type": "stream",
     "text": [
      "C:\\Users\\arnol\\AppData\\Local\\Programs\\Python\\Python311\\Lib\\site-packages\\seaborn\\axisgrid.py:118: UserWarning: The figure layout has changed to tight\n",
      "  self._figure.tight_layout(*args, **kwargs)\n"
     ]
    },
    {
     "data": {
      "image/png": "[encoded data removed]",
      "text/plain": [
       "<Figure size 1058.88x500 with 2 Axes>"
      ]
     },
     "metadata": {},
     "output_type": "display_data"
    }
   ],
   "source": [
    "sns.catplot(data=new_df,x='variable',col='cardio',hue='value',kind='count');\n",
    "#x-varialbe used on the x-axis\n",
    "#col: The 'cardio' column is used to create multiple subplots based on its unique values.\n",
    "#hue: The 'value' column is used to differentiate data points within each subplot.\n",
    "#kind: CountPlot"
   ]
  }
 ],
 "metadata": {
  "kernelspec": {
   "display_name": "Python 3 (ipykernel)",
   "language": "python",
   "name": "python3"
  },
  "language_info": {
   "codemirror_mode": {
    "name": "ipython",
    "version": 3
   },
   "file_extension": ".py",
   "mimetype": "text/x-python",
   "name": "python",
   "nbconvert_exporter": "python",
   "pygments_lexer": "ipython3",
   "version": "3.11.4"
  }
 },
 "nbformat": 4,
 "nbformat_minor": 5
}
